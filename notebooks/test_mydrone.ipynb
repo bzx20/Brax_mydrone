{
 "cells": [
  {
   "cell_type": "code",
   "execution_count": null,
   "metadata": {},
   "outputs": [],
   "source": [
    "import functools\n",
    "import time\n",
    "\n",
    "from IPython.display import HTML, Image \n",
    "import gym\n",
    "\n",
    "try:\n",
    "  import brax\n",
    "except ImportError:\n",
    "  from IPython.display import clear_output \n",
    "  !pip install git+https://github.com/google/brax.git@main\n",
    "  clear_output()\n",
    "  import brax\n",
    "\n",
    "from brax import envs\n",
    "from brax import jumpy as jp\n",
    "from brax.envs import to_torch\n",
    "from brax.io import html\n",
    "from brax.io import image\n",
    "import jax\n",
    "from jax import numpy as jnp\n",
    "import torch\n",
    "v = torch.ones(1, device='cuda')  # init torch cuda before jax\n"
   ]
  },
  {
   "cell_type": "code",
   "execution_count": null,
   "metadata": {},
   "outputs": [],
   "source": [
    "\n",
    "environment = \"mydrone\"  # @param ['ant', 'halfcheetah', 'hopper', 'humanoid', 'reacher', 'walker2d', 'fetch', 'grasp', 'ur5e']\n",
    "env = envs.create(env_name=environment)\n",
    "state = env.reset(rng=jp.random_prngkey(seed=0))"
   ]
  },
  {
   "cell_type": "code",
   "execution_count": null,
   "metadata": {},
   "outputs": [],
   "source": [
    "\n",
    "HTML(html.render(env.sys, [state.qp]))\n"
   ]
  },
  {
   "cell_type": "code",
   "execution_count": null,
   "metadata": {},
   "outputs": [],
   "source": [
    "\n",
    "%%time\n",
    "rollout = []\n",
    "for i in range(100):\n",
    "  # wiggle sinusoidally with a phase shift per actuator\n",
    "  # To change: action\n",
    "  action = jp.sin(i * jp.pi / 15 + jp.arange(0, env.action_size) * jp.pi)\n",
    "  state = env.step(state, action)\n",
    "  rollout.append(state)\n",
    "# jit compile env.step:\n",
    "jit_env_step = jax.jit(env.step)\n",
    "state = jit_env_step(state, jnp.ones((env.action_size,)))\n"
   ]
  },
  {
   "cell_type": "code",
   "execution_count": null,
   "metadata": {},
   "outputs": [],
   "source": [
    "\n",
    "%%time\n",
    "for _ in range(100):\n",
    "  state = jit_env_step(state, jnp.ones((env.action_size,)))\n"
   ]
  },
  {
   "cell_type": "code",
   "execution_count": null,
   "metadata": {},
   "outputs": [],
   "source": [
    "HTML(html.render(env.sys, [s.qp for s in rollout]))"
   ]
  }
 ],
 "metadata": {
  "language_info": {
   "name": "python"
  },
  "orig_nbformat": 4
 },
 "nbformat": 4,
 "nbformat_minor": 2
}
